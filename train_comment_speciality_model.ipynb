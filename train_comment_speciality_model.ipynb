{
 "cells": [
  {
   "cell_type": "code",
   "execution_count": 1,
   "metadata": {},
   "outputs": [],
   "source": [
    "import pandas as pd\n",
    "import numpy as np\n",
    "import json"
   ]
  },
  {
   "cell_type": "code",
   "execution_count": 2,
   "metadata": {},
   "outputs": [],
   "source": [
    "def load_json(file):\n",
    "    with open(file) as fp:\n",
    "        data = json.load(fp)\n",
    "        return data"
   ]
  },
  {
   "cell_type": "code",
   "execution_count": 45,
   "metadata": {},
   "outputs": [],
   "source": [
    "def save_data_to_json(data, file):\n",
    "    with open(file, 'w') as fp:\n",
    "        json.dump(data, fp)"
   ]
  },
  {
   "cell_type": "markdown",
   "metadata": {},
   "source": [
    "#### load data"
   ]
  },
  {
   "cell_type": "code",
   "execution_count": 3,
   "metadata": {},
   "outputs": [],
   "source": [
    "df_train = pd.read_csv('comment_specialty_train.csv')\n",
    "df_test = pd.read_csv('comment_specialty_test.csv')"
   ]
  },
  {
   "cell_type": "code",
   "execution_count": 4,
   "metadata": {},
   "outputs": [
    {
     "data": {
      "text/html": [
       "<div>\n",
       "<style scoped>\n",
       "    .dataframe tbody tr th:only-of-type {\n",
       "        vertical-align: middle;\n",
       "    }\n",
       "\n",
       "    .dataframe tbody tr th {\n",
       "        vertical-align: top;\n",
       "    }\n",
       "\n",
       "    .dataframe thead th {\n",
       "        text-align: right;\n",
       "    }\n",
       "</style>\n",
       "<table border=\"1\" class=\"dataframe\">\n",
       "  <thead>\n",
       "    <tr style=\"text-align: right;\">\n",
       "      <th></th>\n",
       "      <th>id</th>\n",
       "      <th>comment</th>\n",
       "      <th>specialty_id</th>\n",
       "    </tr>\n",
       "  </thead>\n",
       "  <tbody>\n",
       "    <tr>\n",
       "      <th>0</th>\n",
       "      <td>19600</td>\n",
       "      <td>Красное высыпание на боку живота</td>\n",
       "      <td>15</td>\n",
       "    </tr>\n",
       "    <tr>\n",
       "      <th>1</th>\n",
       "      <td>172287</td>\n",
       "      <td>періодична сипь на руці. по ознаках схожа на к...</td>\n",
       "      <td>15</td>\n",
       "    </tr>\n",
       "    <tr>\n",
       "      <th>2</th>\n",
       "      <td>1078909</td>\n",
       "      <td>Номер направлення 6303-9261-6693-4577</td>\n",
       "      <td>8</td>\n",
       "    </tr>\n",
       "    <tr>\n",
       "      <th>3</th>\n",
       "      <td>45659</td>\n",
       "      <td>Удаление двух родинок на спине, скорее всего х...</td>\n",
       "      <td>81</td>\n",
       "    </tr>\n",
       "    <tr>\n",
       "      <th>4</th>\n",
       "      <td>4647</td>\n",
       "      <td>нужна консультация</td>\n",
       "      <td>53</td>\n",
       "    </tr>\n",
       "    <tr>\n",
       "      <th>...</th>\n",
       "      <td>...</td>\n",
       "      <td>...</td>\n",
       "      <td>...</td>\n",
       "    </tr>\n",
       "    <tr>\n",
       "      <th>20955</th>\n",
       "      <td>784405</td>\n",
       "      <td>Здравствуйте, хочу проконсультироваться на счё...</td>\n",
       "      <td>38</td>\n",
       "    </tr>\n",
       "    <tr>\n",
       "      <th>20956</th>\n",
       "      <td>80062</td>\n",
       "      <td>гінеколог</td>\n",
       "      <td>13</td>\n",
       "    </tr>\n",
       "    <tr>\n",
       "      <th>20957</th>\n",
       "      <td>13016</td>\n",
       "      <td>Сломан тазобедренный сустав 10дней назад,одет ...</td>\n",
       "      <td>34</td>\n",
       "    </tr>\n",
       "    <tr>\n",
       "      <th>20958</th>\n",
       "      <td>330832</td>\n",
       "      <td>По времени желателен промежуток между 9:00 - 1...</td>\n",
       "      <td>8</td>\n",
       "    </tr>\n",
       "    <tr>\n",
       "      <th>20959</th>\n",
       "      <td>978791</td>\n",
       "      <td>7,5 месяцев, пока не ползает и не сидит, в 6 м...</td>\n",
       "      <td>28</td>\n",
       "    </tr>\n",
       "  </tbody>\n",
       "</table>\n",
       "<p>20960 rows × 3 columns</p>\n",
       "</div>"
      ],
      "text/plain": [
       "            id                                            comment  \\\n",
       "0        19600                   Красное высыпание на боку живота   \n",
       "1       172287  періодична сипь на руці. по ознаках схожа на к...   \n",
       "2      1078909              Номер направлення 6303-9261-6693-4577   \n",
       "3        45659  Удаление двух родинок на спине, скорее всего х...   \n",
       "4         4647                                 нужна консультация   \n",
       "...        ...                                                ...   \n",
       "20955   784405  Здравствуйте, хочу проконсультироваться на счё...   \n",
       "20956    80062                                          гінеколог   \n",
       "20957    13016  Сломан тазобедренный сустав 10дней назад,одет ...   \n",
       "20958   330832  По времени желателен промежуток между 9:00 - 1...   \n",
       "20959   978791  7,5 месяцев, пока не ползает и не сидит, в 6 м...   \n",
       "\n",
       "       specialty_id  \n",
       "0                15  \n",
       "1                15  \n",
       "2                 8  \n",
       "3                81  \n",
       "4                53  \n",
       "...             ...  \n",
       "20955            38  \n",
       "20956            13  \n",
       "20957            34  \n",
       "20958             8  \n",
       "20959            28  \n",
       "\n",
       "[20960 rows x 3 columns]"
      ]
     },
     "execution_count": 4,
     "metadata": {},
     "output_type": "execute_result"
    }
   ],
   "source": [
    "df_train"
   ]
  },
  {
   "cell_type": "code",
   "execution_count": 5,
   "metadata": {},
   "outputs": [],
   "source": [
    "import stanza"
   ]
  },
  {
   "cell_type": "code",
   "execution_count": 6,
   "metadata": {},
   "outputs": [
    {
     "name": "stderr",
     "output_type": "stream",
     "text": [
      "2021-03-20 21:28:01 INFO: Loading these models for language: ru (Russian):\n",
      "=========================\n",
      "| Processor | Package   |\n",
      "-------------------------\n",
      "| tokenize  | syntagrus |\n",
      "| pos       | syntagrus |\n",
      "| lemma     | syntagrus |\n",
      "| depparse  | syntagrus |\n",
      "| ner       | wikiner   |\n",
      "=========================\n",
      "\n",
      "2021-03-20 21:28:01 INFO: Use device: gpu\n",
      "2021-03-20 21:28:01 INFO: Loading: tokenize\n",
      "2021-03-20 21:28:04 INFO: Loading: pos\n",
      "2021-03-20 21:28:05 INFO: Loading: lemma\n",
      "2021-03-20 21:28:05 INFO: Loading: depparse\n",
      "2021-03-20 21:28:06 INFO: Loading: ner\n",
      "2021-03-20 21:28:07 INFO: Done loading processors!\n"
     ]
    }
   ],
   "source": [
    "nlp_ru = stanza.Pipeline(lang=\"ru\", use_gpu=True)"
   ]
  },
  {
   "cell_type": "code",
   "execution_count": 7,
   "metadata": {},
   "outputs": [],
   "source": [
    "stopwords_ru = load_json('stopwords-ru.json')"
   ]
  },
  {
   "cell_type": "code",
   "execution_count": 8,
   "metadata": {},
   "outputs": [],
   "source": [
    "ACCEPTABLE_UPOS = ['NOUN', 'PROPN', 'VERB', 'ADJ', 'ADV']"
   ]
  },
  {
   "cell_type": "code",
   "execution_count": 9,
   "metadata": {},
   "outputs": [],
   "source": [
    "def get_important_tokens(text: str):\n",
    "#     print(text)\n",
    "    tokens = []\n",
    "    try:\n",
    "        sentences = nlp_ru(text).sentences\n",
    "        for sent in sentences:\n",
    "            for word in sent.words:\n",
    "                lemma = word.lemma\n",
    "                if lemma in stopwords_ru:\n",
    "                    continue\n",
    "                if word.upos not in ACCEPTABLE_UPOS:\n",
    "                    continue\n",
    "                tokens.append(lemma)\n",
    "    except:\n",
    "        pass\n",
    "    return tokens"
   ]
  },
  {
   "cell_type": "code",
   "execution_count": 10,
   "metadata": {},
   "outputs": [
    {
     "data": {
      "text/plain": [
       "['красный', 'высыпание', 'бок', 'живот']"
      ]
     },
     "execution_count": 10,
     "metadata": {},
     "output_type": "execute_result"
    }
   ],
   "source": [
    "get_important_tokens(\"Красное высыпание на боку живота\")"
   ]
  },
  {
   "cell_type": "code",
   "execution_count": 11,
   "metadata": {},
   "outputs": [
    {
     "data": {
      "text/plain": [
       "['красный', 'высыпание', '4кбок', 'живот']"
      ]
     },
     "execution_count": 11,
     "metadata": {},
     "output_type": "execute_result"
    }
   ],
   "source": [
    "get_important_tokens(\"Красное высыпание на 43боку живота\")"
   ]
  },
  {
   "cell_type": "code",
   "execution_count": 12,
   "metadata": {},
   "outputs": [
    {
     "name": "stdout",
     "output_type": "stream",
     "text": [
      "CPU times: user 14min 21s, sys: 2.58 s, total: 14min 24s\n",
      "Wall time: 14min 24s\n"
     ]
    }
   ],
   "source": [
    "%%time\n",
    "X_tokens_train, y_ids_train = [], []\n",
    "for idx, row in df_train.iterrows():\n",
    "    tokens = get_important_tokens(row.comment)\n",
    "    if not tokens:\n",
    "        continue\n",
    "    X_tokens_train.append(tokens)\n",
    "    y_ids_train.append(row.specialty_id)"
   ]
  },
  {
   "cell_type": "code",
   "execution_count": 46,
   "metadata": {},
   "outputs": [],
   "source": [
    "save_data_to_json(data={\n",
    "    'x_tokens': X_tokens_train,\n",
    "    'y' : y_ids_train\n",
    "}, file = \"train_tokens.json\")"
   ]
  },
  {
   "cell_type": "code",
   "execution_count": 13,
   "metadata": {},
   "outputs": [
    {
     "name": "stdout",
     "output_type": "stream",
     "text": [
      "CPU times: user 3min 36s, sys: 640 ms, total: 3min 37s\n",
      "Wall time: 3min 37s\n"
     ]
    }
   ],
   "source": [
    "%%time\n",
    "X_tokens_test, y_ids_test = [], []\n",
    "for idx, row in df_test.iterrows():\n",
    "    tokens = get_important_tokens(row.comment)\n",
    "    if not tokens:\n",
    "        continue\n",
    "    X_tokens_test.append(tokens)\n",
    "    y_ids_test.append(row.specialty_id)"
   ]
  },
  {
   "cell_type": "code",
   "execution_count": 47,
   "metadata": {},
   "outputs": [],
   "source": [
    "save_data_to_json(data={\n",
    "    'x_tokens': X_tokens_test,\n",
    "    'y' : y_ids_test\n",
    "}, file = \"test_tokens.json\")"
   ]
  },
  {
   "cell_type": "code",
   "execution_count": 49,
   "metadata": {},
   "outputs": [],
   "source": [
    "del X_tokens_test"
   ]
  },
  {
   "cell_type": "code",
   "execution_count": 50,
   "metadata": {},
   "outputs": [],
   "source": [
    "del X_tokens_train"
   ]
  },
  {
   "cell_type": "code",
   "execution_count": 14,
   "metadata": {},
   "outputs": [
    {
     "data": {
      "text/plain": [
       "20344"
      ]
     },
     "execution_count": 14,
     "metadata": {},
     "output_type": "execute_result"
    }
   ],
   "source": [
    "len(X_tokens_train)"
   ]
  },
  {
   "cell_type": "code",
   "execution_count": 15,
   "metadata": {},
   "outputs": [
    {
     "data": {
      "text/plain": [
       "20344"
      ]
     },
     "execution_count": 15,
     "metadata": {},
     "output_type": "execute_result"
    }
   ],
   "source": [
    "len(y_ids_train)"
   ]
  },
  {
   "cell_type": "code",
   "execution_count": null,
   "metadata": {},
   "outputs": [],
   "source": []
  },
  {
   "cell_type": "code",
   "execution_count": 16,
   "metadata": {},
   "outputs": [
    {
     "data": {
      "text/plain": [
       "20960"
      ]
     },
     "execution_count": 16,
     "metadata": {},
     "output_type": "execute_result"
    }
   ],
   "source": [
    "len(df_train)"
   ]
  },
  {
   "cell_type": "code",
   "execution_count": 17,
   "metadata": {},
   "outputs": [],
   "source": [
    "from collections import Counter"
   ]
  },
  {
   "cell_type": "code",
   "execution_count": 18,
   "metadata": {},
   "outputs": [],
   "source": [
    "word_counter = Counter()"
   ]
  },
  {
   "cell_type": "code",
   "execution_count": 19,
   "metadata": {},
   "outputs": [],
   "source": [
    "for tokens in X_tokens_train:\n",
    "    for token in tokens:\n",
    "        word_counter[token] += 1"
   ]
  },
  {
   "cell_type": "code",
   "execution_count": 20,
   "metadata": {},
   "outputs": [
    {
     "data": {
      "text/plain": [
       "15642"
      ]
     },
     "execution_count": 20,
     "metadata": {},
     "output_type": "execute_result"
    }
   ],
   "source": [
    "len(word_counter)"
   ]
  },
  {
   "cell_type": "code",
   "execution_count": null,
   "metadata": {},
   "outputs": [],
   "source": []
  },
  {
   "cell_type": "code",
   "execution_count": null,
   "metadata": {},
   "outputs": [],
   "source": []
  },
  {
   "cell_type": "code",
   "execution_count": null,
   "metadata": {},
   "outputs": [],
   "source": []
  },
  {
   "cell_type": "code",
   "execution_count": null,
   "metadata": {},
   "outputs": [],
   "source": []
  },
  {
   "cell_type": "code",
   "execution_count": null,
   "metadata": {},
   "outputs": [],
   "source": []
  },
  {
   "cell_type": "code",
   "execution_count": null,
   "metadata": {},
   "outputs": [],
   "source": []
  },
  {
   "cell_type": "code",
   "execution_count": 21,
   "metadata": {},
   "outputs": [],
   "source": [
    "from sklearn.feature_extraction.text import CountVectorizer"
   ]
  },
  {
   "cell_type": "code",
   "execution_count": 23,
   "metadata": {},
   "outputs": [],
   "source": [
    "def dummy(doc):\n",
    "    return doc\n",
    "\n",
    "cv = CountVectorizer(\n",
    "        tokenizer=dummy,\n",
    "        preprocessor=dummy,\n",
    "    max_features=512\n",
    "    )  "
   ]
  },
  {
   "cell_type": "code",
   "execution_count": 24,
   "metadata": {},
   "outputs": [],
   "source": [
    "X_train = cv.fit_transform(X_tokens_train)"
   ]
  },
  {
   "cell_type": "code",
   "execution_count": 25,
   "metadata": {},
   "outputs": [],
   "source": [
    "X_test = cv.transform(X_tokens_test)"
   ]
  },
  {
   "cell_type": "code",
   "execution_count": 26,
   "metadata": {},
   "outputs": [],
   "source": [
    "specialty_to_group = load_json(\"group_specialty_dict.json\")"
   ]
  },
  {
   "cell_type": "code",
   "execution_count": 27,
   "metadata": {},
   "outputs": [],
   "source": [
    "specialty_to_group['47'] = 46"
   ]
  },
  {
   "cell_type": "code",
   "execution_count": 28,
   "metadata": {},
   "outputs": [],
   "source": [
    "specialty_to_group['33'] = 33"
   ]
  },
  {
   "cell_type": "code",
   "execution_count": 29,
   "metadata": {},
   "outputs": [],
   "source": [
    "y_group_train = [specialty_to_group[str(yi)] for yi in y_ids_train]"
   ]
  },
  {
   "cell_type": "code",
   "execution_count": 30,
   "metadata": {},
   "outputs": [],
   "source": [
    "y_group_test = [specialty_to_group[str(yi)] for yi in y_ids_test]"
   ]
  },
  {
   "cell_type": "code",
   "execution_count": 73,
   "metadata": {},
   "outputs": [],
   "source": [
    "feature_path = 'data/count_vectorizer_vocab.pkl'\n",
    "with open(feature_path, 'wb') as fw:\n",
    "     pickle.dump(cv.vocabulary_, fw)"
   ]
  },
  {
   "cell_type": "code",
   "execution_count": 74,
   "metadata": {},
   "outputs": [
    {
     "data": {
      "text/plain": [
       "512"
      ]
     },
     "execution_count": 74,
     "metadata": {},
     "output_type": "execute_result"
    }
   ],
   "source": [
    "len(cv.vocabulary_)"
   ]
  },
  {
   "cell_type": "markdown",
   "metadata": {},
   "source": [
    "### Clasifier"
   ]
  },
  {
   "cell_type": "code",
   "execution_count": 31,
   "metadata": {},
   "outputs": [],
   "source": [
    "from sklearn.naive_bayes import MultinomialNB\n",
    "clf = MultinomialNB()"
   ]
  },
  {
   "cell_type": "code",
   "execution_count": 63,
   "metadata": {},
   "outputs": [
    {
     "data": {
      "text/plain": [
       "MultinomialNB()"
      ]
     },
     "execution_count": 63,
     "metadata": {},
     "output_type": "execute_result"
    }
   ],
   "source": [
    "clf.fit(X_train, y_group_train)"
   ]
  },
  {
   "cell_type": "code",
   "execution_count": 64,
   "metadata": {},
   "outputs": [
    {
     "data": {
      "text/plain": [
       "<5100x512 sparse matrix of type '<class 'numpy.int64'>'\n",
       "\twith 15263 stored elements in Compressed Sparse Row format>"
      ]
     },
     "execution_count": 64,
     "metadata": {},
     "output_type": "execute_result"
    }
   ],
   "source": [
    "X_test"
   ]
  },
  {
   "cell_type": "code",
   "execution_count": 65,
   "metadata": {},
   "outputs": [],
   "source": [
    "y_test_pred = clf.predict(X_test)"
   ]
  },
  {
   "cell_type": "code",
   "execution_count": 66,
   "metadata": {},
   "outputs": [],
   "source": [
    "y_train_pred = clf.predict(X_train)"
   ]
  },
  {
   "cell_type": "code",
   "execution_count": 67,
   "metadata": {},
   "outputs": [],
   "source": [
    "from sklearn.metrics import classification_report"
   ]
  },
  {
   "cell_type": "code",
   "execution_count": 68,
   "metadata": {},
   "outputs": [
    {
     "name": "stdout",
     "output_type": "stream",
     "text": [
      "              precision    recall  f1-score   support\n",
      "\n",
      "           1       0.51      0.28      0.37       194\n",
      "           4       0.57      0.07      0.12        58\n",
      "           5       0.00      0.00      0.00        34\n",
      "           7       0.31      0.21      0.25       399\n",
      "           8       0.50      0.22      0.31       250\n",
      "          10       0.00      0.00      0.00         2\n",
      "          11       0.00      0.00      0.00        37\n",
      "          13       0.26      0.80      0.40       739\n",
      "          14       0.00      0.00      0.00         8\n",
      "          15       0.42      0.47      0.44       381\n",
      "          16       0.58      0.21      0.30        34\n",
      "          17       0.00      0.00      0.00        14\n",
      "          18       0.12      0.02      0.03        52\n",
      "          20       0.59      0.25      0.35        92\n",
      "          21       0.33      0.03      0.05        38\n",
      "          22       0.00      0.00      0.00        13\n",
      "          23       0.56      0.42      0.48       326\n",
      "          25       0.75      0.09      0.17        32\n",
      "          27       0.00      0.00      0.00        19\n",
      "          28       0.35      0.32      0.33       286\n",
      "          29       0.45      0.31      0.36        72\n",
      "          30       0.00      0.00      0.00         7\n",
      "          32       0.00      0.00      0.00        18\n",
      "          33       0.68      0.48      0.56        71\n",
      "          34       0.53      0.41      0.47       270\n",
      "          35       0.27      0.16      0.20        69\n",
      "          36       0.40      0.18      0.25        56\n",
      "          37       0.60      0.22      0.32       118\n",
      "          38       0.00      0.00      0.00        65\n",
      "          39       0.30      0.43      0.35       242\n",
      "          41       0.33      0.06      0.10        33\n",
      "          43       0.00      0.00      0.00         2\n",
      "          44       0.83      0.16      0.27        31\n",
      "          46       0.00      0.00      0.00        11\n",
      "          47       0.00      0.00      0.00         2\n",
      "          48       0.68      0.51      0.58       212\n",
      "          49       0.47      0.23      0.31       119\n",
      "          51       0.87      0.46      0.60       145\n",
      "          52       0.52      0.41      0.46        82\n",
      "          55       0.70      0.16      0.26        89\n",
      "          56       0.34      0.14      0.19        81\n",
      "          57       0.48      0.21      0.29       125\n",
      "          58       0.00      0.00      0.00         6\n",
      "          66       0.00      0.00      0.00        32\n",
      "          68       0.00      0.00      0.00         2\n",
      "          70       0.00      0.00      0.00         2\n",
      "          71       0.50      0.06      0.10        18\n",
      "          75       0.47      0.44      0.45        55\n",
      "          79       0.00      0.00      0.00        47\n",
      "          80       0.00      0.00      0.00         5\n",
      "          82       0.00      0.00      0.00         4\n",
      "          91       0.00      0.00      0.00         1\n",
      "\n",
      "    accuracy                           0.37      5100\n",
      "   macro avg       0.29      0.16      0.19      5100\n",
      "weighted avg       0.42      0.37      0.35      5100\n",
      "\n"
     ]
    },
    {
     "name": "stderr",
     "output_type": "stream",
     "text": [
      "/home/dbabenko/.local/lib/python3.8/site-packages/sklearn/metrics/_classification.py:1221: UndefinedMetricWarning: Precision and F-score are ill-defined and being set to 0.0 in labels with no predicted samples. Use `zero_division` parameter to control this behavior.\n",
      "  _warn_prf(average, modifier, msg_start, len(result))\n"
     ]
    }
   ],
   "source": [
    "print(classification_report(y_true=y_group_test, y_pred=y_test_pred))"
   ]
  },
  {
   "cell_type": "code",
   "execution_count": 69,
   "metadata": {},
   "outputs": [],
   "source": [
    "import pickle"
   ]
  },
  {
   "cell_type": "code",
   "execution_count": 70,
   "metadata": {},
   "outputs": [],
   "source": [
    "pickle.dump(clf, open(\"./data/multinomialNB.sav\", 'wb'))"
   ]
  },
  {
   "cell_type": "code",
   "execution_count": null,
   "metadata": {},
   "outputs": [],
   "source": []
  },
  {
   "cell_type": "code",
   "execution_count": null,
   "metadata": {},
   "outputs": [],
   "source": []
  },
  {
   "cell_type": "markdown",
   "metadata": {},
   "source": [
    "### Random forest "
   ]
  },
  {
   "cell_type": "code",
   "execution_count": 38,
   "metadata": {},
   "outputs": [],
   "source": [
    "from sklearn.ensemble import RandomForestClassifier"
   ]
  },
  {
   "cell_type": "code",
   "execution_count": 51,
   "metadata": {},
   "outputs": [],
   "source": [
    "rf_cls = RandomForestClassifier(n_estimators=1000)"
   ]
  },
  {
   "cell_type": "code",
   "execution_count": 52,
   "metadata": {},
   "outputs": [
    {
     "data": {
      "text/plain": [
       "RandomForestClassifier(n_estimators=1000)"
      ]
     },
     "execution_count": 52,
     "metadata": {},
     "output_type": "execute_result"
    }
   ],
   "source": [
    "rf_cls.fit(X_train, y_group_train)"
   ]
  },
  {
   "cell_type": "code",
   "execution_count": 53,
   "metadata": {},
   "outputs": [],
   "source": [
    "y_test_pred = rf_cls.predict(X_test)"
   ]
  },
  {
   "cell_type": "code",
   "execution_count": null,
   "metadata": {},
   "outputs": [],
   "source": []
  },
  {
   "cell_type": "code",
   "execution_count": 54,
   "metadata": {},
   "outputs": [
    {
     "name": "stdout",
     "output_type": "stream",
     "text": [
      "              precision    recall  f1-score   support\n",
      "\n",
      "           1       0.37      0.29      0.33       194\n",
      "           4       0.35      0.10      0.16        58\n",
      "           5       0.15      0.06      0.09        34\n",
      "           7       0.28      0.24      0.25       399\n",
      "           8       0.39      0.24      0.29       250\n",
      "          10       0.00      0.00      0.00         2\n",
      "          11       0.06      0.03      0.04        37\n",
      "          13       0.29      0.63      0.40       739\n",
      "          14       0.00      0.00      0.00         8\n",
      "          15       0.36      0.39      0.37       381\n",
      "          16       0.43      0.26      0.33        34\n",
      "          17       0.00      0.00      0.00        14\n",
      "          18       0.07      0.04      0.05        52\n",
      "          20       0.39      0.27      0.32        92\n",
      "          21       0.31      0.32      0.31        38\n",
      "          22       0.00      0.00      0.00        13\n",
      "          23       0.47      0.44      0.45       326\n",
      "          25       0.29      0.12      0.17        32\n",
      "          27       0.00      0.00      0.00        19\n",
      "          28       0.28      0.29      0.28       286\n",
      "          29       0.42      0.25      0.31        72\n",
      "          30       0.00      0.00      0.00         7\n",
      "          32       0.00      0.00      0.00        18\n",
      "          33       0.56      0.42      0.48        71\n",
      "          34       0.43      0.44      0.44       270\n",
      "          35       0.19      0.14      0.16        69\n",
      "          36       0.29      0.30      0.30        56\n",
      "          37       0.35      0.24      0.28       118\n",
      "          38       0.03      0.02      0.02        65\n",
      "          39       0.33      0.36      0.34       242\n",
      "          41       0.13      0.09      0.11        33\n",
      "          43       0.00      0.00      0.00         2\n",
      "          44       0.54      0.23      0.32        31\n",
      "          46       0.25      0.09      0.13        11\n",
      "          47       0.00      0.00      0.00         2\n",
      "          48       0.56      0.48      0.52       212\n",
      "          49       0.20      0.13      0.15       119\n",
      "          51       0.60      0.48      0.54       145\n",
      "          52       0.42      0.41      0.42        82\n",
      "          55       0.39      0.17      0.24        89\n",
      "          56       0.29      0.12      0.17        81\n",
      "          57       0.39      0.25      0.30       125\n",
      "          58       0.00      0.00      0.00         6\n",
      "          66       0.20      0.06      0.10        32\n",
      "          68       0.00      0.00      0.00         2\n",
      "          70       0.00      0.00      0.00         2\n",
      "          71       0.29      0.11      0.16        18\n",
      "          75       0.32      0.36      0.34        55\n",
      "          79       0.19      0.09      0.12        47\n",
      "          80       0.00      0.00      0.00         5\n",
      "          82       0.00      0.00      0.00         4\n",
      "          91       0.00      0.00      0.00         1\n",
      "\n",
      "    accuracy                           0.34      5100\n",
      "   macro avg       0.23      0.17      0.19      5100\n",
      "weighted avg       0.34      0.34      0.32      5100\n",
      "\n"
     ]
    },
    {
     "name": "stderr",
     "output_type": "stream",
     "text": [
      "/home/dbabenko/.local/lib/python3.8/site-packages/sklearn/metrics/_classification.py:1221: UndefinedMetricWarning: Precision and F-score are ill-defined and being set to 0.0 in labels with no predicted samples. Use `zero_division` parameter to control this behavior.\n",
      "  _warn_prf(average, modifier, msg_start, len(result))\n"
     ]
    }
   ],
   "source": [
    "print(classification_report(y_true=y_group_test, y_pred=y_test_pred))"
   ]
  },
  {
   "cell_type": "code",
   "execution_count": 61,
   "metadata": {},
   "outputs": [
    {
     "data": {
      "text/plain": [
       "(52,)"
      ]
     },
     "execution_count": 61,
     "metadata": {},
     "output_type": "execute_result"
    }
   ],
   "source": [
    "np.unique(y_group_test).shape"
   ]
  },
  {
   "cell_type": "code",
   "execution_count": null,
   "metadata": {},
   "outputs": [],
   "source": []
  },
  {
   "cell_type": "code",
   "execution_count": 20,
   "metadata": {},
   "outputs": [],
   "source": [
    "vectorizer = CountVectorizer(tokenizer=get_important_tokens,preprocessor=None, max_features=512, decode_error='ignore')"
   ]
  },
  {
   "cell_type": "code",
   "execution_count": 21,
   "metadata": {},
   "outputs": [
    {
     "data": {
      "text/plain": [
       "array([[1, 1, 1, 1]])"
      ]
     },
     "execution_count": 21,
     "metadata": {},
     "output_type": "execute_result"
    }
   ],
   "source": [
    "vectorizer.fit_transform([\"Красное высыпание на боку живота\"]).toarray()"
   ]
  },
  {
   "cell_type": "code",
   "execution_count": 22,
   "metadata": {},
   "outputs": [
    {
     "data": {
      "text/plain": [
       "array(['Красное высыпание на боку живота',\n",
       "       'періодична сипь на руці. по ознаках схожа на крапивницю',\n",
       "       'Номер направлення 6303-9261-6693-4577', ...,\n",
       "       'Сломан тазобедренный сустав 10дней назад,одет гипс. Гипс начал расползаться и причинить боль. Нужна консультация. Тете 74года и весит она более 120 кг. Не стает с кровати, только сидит',\n",
       "       'По времени желателен промежуток между 9:00 - 13:00.\\nПо ближайшим дням - среда, пятница',\n",
       "       '7,5 месяцев, пока не ползает и не сидит, в 6 месяцев начала активно переворачиваться со спины на живот. Когда делаю зарядку то чувствую сильное напряжение в ногах и сопротивление.'],\n",
       "      dtype=object)"
      ]
     },
     "execution_count": 22,
     "metadata": {},
     "output_type": "execute_result"
    }
   ],
   "source": [
    "df_train['comment'].values"
   ]
  },
  {
   "cell_type": "code",
   "execution_count": null,
   "metadata": {},
   "outputs": [],
   "source": [
    "X_train = vectorizer.fit_transform(df_train['comment'].values).toarray()"
   ]
  },
  {
   "cell_type": "code",
   "execution_count": 51,
   "metadata": {},
   "outputs": [
    {
     "data": {
      "text/html": [
       "<div>\n",
       "<style scoped>\n",
       "    .dataframe tbody tr th:only-of-type {\n",
       "        vertical-align: middle;\n",
       "    }\n",
       "\n",
       "    .dataframe tbody tr th {\n",
       "        vertical-align: top;\n",
       "    }\n",
       "\n",
       "    .dataframe thead th {\n",
       "        text-align: right;\n",
       "    }\n",
       "</style>\n",
       "<table border=\"1\" class=\"dataframe\">\n",
       "  <thead>\n",
       "    <tr style=\"text-align: right;\">\n",
       "      <th></th>\n",
       "      <th>id</th>\n",
       "      <th>comment</th>\n",
       "      <th>specialty_id</th>\n",
       "    </tr>\n",
       "  </thead>\n",
       "  <tbody>\n",
       "    <tr>\n",
       "      <th>0</th>\n",
       "      <td>19600</td>\n",
       "      <td>Красное высыпание на боку живота</td>\n",
       "      <td>15</td>\n",
       "    </tr>\n",
       "    <tr>\n",
       "      <th>1</th>\n",
       "      <td>172287</td>\n",
       "      <td>періодична сипь на руці. по ознаках схожа на к...</td>\n",
       "      <td>15</td>\n",
       "    </tr>\n",
       "    <tr>\n",
       "      <th>2</th>\n",
       "      <td>1078909</td>\n",
       "      <td>Номер направлення 6303-9261-6693-4577</td>\n",
       "      <td>8</td>\n",
       "    </tr>\n",
       "    <tr>\n",
       "      <th>3</th>\n",
       "      <td>45659</td>\n",
       "      <td>Удаление двух родинок на спине, скорее всего х...</td>\n",
       "      <td>81</td>\n",
       "    </tr>\n",
       "    <tr>\n",
       "      <th>4</th>\n",
       "      <td>4647</td>\n",
       "      <td>нужна консультация</td>\n",
       "      <td>53</td>\n",
       "    </tr>\n",
       "    <tr>\n",
       "      <th>...</th>\n",
       "      <td>...</td>\n",
       "      <td>...</td>\n",
       "      <td>...</td>\n",
       "    </tr>\n",
       "    <tr>\n",
       "      <th>20955</th>\n",
       "      <td>784405</td>\n",
       "      <td>Здравствуйте, хочу проконсультироваться на счё...</td>\n",
       "      <td>38</td>\n",
       "    </tr>\n",
       "    <tr>\n",
       "      <th>20956</th>\n",
       "      <td>80062</td>\n",
       "      <td>гінеколог</td>\n",
       "      <td>13</td>\n",
       "    </tr>\n",
       "    <tr>\n",
       "      <th>20957</th>\n",
       "      <td>13016</td>\n",
       "      <td>Сломан тазобедренный сустав 10дней назад,одет ...</td>\n",
       "      <td>34</td>\n",
       "    </tr>\n",
       "    <tr>\n",
       "      <th>20958</th>\n",
       "      <td>330832</td>\n",
       "      <td>По времени желателен промежуток между 9:00 - 1...</td>\n",
       "      <td>8</td>\n",
       "    </tr>\n",
       "    <tr>\n",
       "      <th>20959</th>\n",
       "      <td>978791</td>\n",
       "      <td>7,5 месяцев, пока не ползает и не сидит, в 6 м...</td>\n",
       "      <td>28</td>\n",
       "    </tr>\n",
       "  </tbody>\n",
       "</table>\n",
       "<p>20960 rows × 3 columns</p>\n",
       "</div>"
      ],
      "text/plain": [
       "            id                                            comment  \\\n",
       "0        19600                   Красное высыпание на боку живота   \n",
       "1       172287  періодична сипь на руці. по ознаках схожа на к...   \n",
       "2      1078909              Номер направлення 6303-9261-6693-4577   \n",
       "3        45659  Удаление двух родинок на спине, скорее всего х...   \n",
       "4         4647                                 нужна консультация   \n",
       "...        ...                                                ...   \n",
       "20955   784405  Здравствуйте, хочу проконсультироваться на счё...   \n",
       "20956    80062                                          гінеколог   \n",
       "20957    13016  Сломан тазобедренный сустав 10дней назад,одет ...   \n",
       "20958   330832  По времени желателен промежуток между 9:00 - 1...   \n",
       "20959   978791  7,5 месяцев, пока не ползает и не сидит, в 6 м...   \n",
       "\n",
       "       specialty_id  \n",
       "0                15  \n",
       "1                15  \n",
       "2                 8  \n",
       "3                81  \n",
       "4                53  \n",
       "...             ...  \n",
       "20955            38  \n",
       "20956            13  \n",
       "20957            34  \n",
       "20958             8  \n",
       "20959            28  \n",
       "\n",
       "[20960 rows x 3 columns]"
      ]
     },
     "execution_count": 51,
     "metadata": {},
     "output_type": "execute_result"
    }
   ],
   "source": []
  },
  {
   "cell_type": "code",
   "execution_count": 54,
   "metadata": {},
   "outputs": [],
   "source": [
    "df_train['comment'].replace('', np.nan, inplace=True)"
   ]
  },
  {
   "cell_type": "code",
   "execution_count": 55,
   "metadata": {},
   "outputs": [
    {
     "data": {
      "text/html": [
       "<div>\n",
       "<style scoped>\n",
       "    .dataframe tbody tr th:only-of-type {\n",
       "        vertical-align: middle;\n",
       "    }\n",
       "\n",
       "    .dataframe tbody tr th {\n",
       "        vertical-align: top;\n",
       "    }\n",
       "\n",
       "    .dataframe thead th {\n",
       "        text-align: right;\n",
       "    }\n",
       "</style>\n",
       "<table border=\"1\" class=\"dataframe\">\n",
       "  <thead>\n",
       "    <tr style=\"text-align: right;\">\n",
       "      <th></th>\n",
       "      <th>id</th>\n",
       "      <th>comment</th>\n",
       "      <th>specialty_id</th>\n",
       "    </tr>\n",
       "  </thead>\n",
       "  <tbody>\n",
       "    <tr>\n",
       "      <th>0</th>\n",
       "      <td>19600</td>\n",
       "      <td>Красное высыпание на боку живота</td>\n",
       "      <td>15</td>\n",
       "    </tr>\n",
       "    <tr>\n",
       "      <th>1</th>\n",
       "      <td>172287</td>\n",
       "      <td>періодична сипь на руці. по ознаках схожа на к...</td>\n",
       "      <td>15</td>\n",
       "    </tr>\n",
       "    <tr>\n",
       "      <th>2</th>\n",
       "      <td>1078909</td>\n",
       "      <td>Номер направлення 6303-9261-6693-4577</td>\n",
       "      <td>8</td>\n",
       "    </tr>\n",
       "    <tr>\n",
       "      <th>3</th>\n",
       "      <td>45659</td>\n",
       "      <td>Удаление двух родинок на спине, скорее всего х...</td>\n",
       "      <td>81</td>\n",
       "    </tr>\n",
       "    <tr>\n",
       "      <th>4</th>\n",
       "      <td>4647</td>\n",
       "      <td>нужна консультация</td>\n",
       "      <td>53</td>\n",
       "    </tr>\n",
       "    <tr>\n",
       "      <th>...</th>\n",
       "      <td>...</td>\n",
       "      <td>...</td>\n",
       "      <td>...</td>\n",
       "    </tr>\n",
       "    <tr>\n",
       "      <th>20955</th>\n",
       "      <td>784405</td>\n",
       "      <td>Здравствуйте, хочу проконсультироваться на счё...</td>\n",
       "      <td>38</td>\n",
       "    </tr>\n",
       "    <tr>\n",
       "      <th>20956</th>\n",
       "      <td>80062</td>\n",
       "      <td>гінеколог</td>\n",
       "      <td>13</td>\n",
       "    </tr>\n",
       "    <tr>\n",
       "      <th>20957</th>\n",
       "      <td>13016</td>\n",
       "      <td>Сломан тазобедренный сустав 10дней назад,одет ...</td>\n",
       "      <td>34</td>\n",
       "    </tr>\n",
       "    <tr>\n",
       "      <th>20958</th>\n",
       "      <td>330832</td>\n",
       "      <td>По времени желателен промежуток между 9:00 - 1...</td>\n",
       "      <td>8</td>\n",
       "    </tr>\n",
       "    <tr>\n",
       "      <th>20959</th>\n",
       "      <td>978791</td>\n",
       "      <td>7,5 месяцев, пока не ползает и не сидит, в 6 м...</td>\n",
       "      <td>28</td>\n",
       "    </tr>\n",
       "  </tbody>\n",
       "</table>\n",
       "<p>20960 rows × 3 columns</p>\n",
       "</div>"
      ],
      "text/plain": [
       "            id                                            comment  \\\n",
       "0        19600                   Красное высыпание на боку живота   \n",
       "1       172287  періодична сипь на руці. по ознаках схожа на к...   \n",
       "2      1078909              Номер направлення 6303-9261-6693-4577   \n",
       "3        45659  Удаление двух родинок на спине, скорее всего х...   \n",
       "4         4647                                 нужна консультация   \n",
       "...        ...                                                ...   \n",
       "20955   784405  Здравствуйте, хочу проконсультироваться на счё...   \n",
       "20956    80062                                          гінеколог   \n",
       "20957    13016  Сломан тазобедренный сустав 10дней назад,одет ...   \n",
       "20958   330832  По времени желателен промежуток между 9:00 - 1...   \n",
       "20959   978791  7,5 месяцев, пока не ползает и не сидит, в 6 м...   \n",
       "\n",
       "       specialty_id  \n",
       "0                15  \n",
       "1                15  \n",
       "2                 8  \n",
       "3                81  \n",
       "4                53  \n",
       "...             ...  \n",
       "20955            38  \n",
       "20956            13  \n",
       "20957            34  \n",
       "20958             8  \n",
       "20959            28  \n",
       "\n",
       "[20960 rows x 3 columns]"
      ]
     },
     "execution_count": 55,
     "metadata": {},
     "output_type": "execute_result"
    }
   ],
   "source": [
    "df_train.dropna()"
   ]
  },
  {
   "cell_type": "code",
   "execution_count": 57,
   "metadata": {},
   "outputs": [
    {
     "data": {
      "text/plain": [
       "(20960,)"
      ]
     },
     "execution_count": 57,
     "metadata": {},
     "output_type": "execute_result"
    }
   ],
   "source": [
    "df_train['comment'].values.shape"
   ]
  },
  {
   "cell_type": "code",
   "execution_count": 58,
   "metadata": {},
   "outputs": [
    {
     "data": {
      "text/plain": [
       "array(['Красное высыпание на боку живота',\n",
       "       'періодична сипь на руці. по ознаках схожа на крапивницю',\n",
       "       'Номер направлення 6303-9261-6693-4577', ...,\n",
       "       'Сломан тазобедренный сустав 10дней назад,одет гипс. Гипс начал расползаться и причинить боль. Нужна консультация. Тете 74года и весит она более 120 кг. Не стает с кровати, только сидит',\n",
       "       'По времени желателен промежуток между 9:00 - 13:00.\\nПо ближайшим дням - среда, пятница',\n",
       "       '7,5 месяцев, пока не ползает и не сидит, в 6 месяцев начала активно переворачиваться со спины на живот. Когда делаю зарядку то чувствую сильное напряжение в ногах и сопротивление.'],\n",
       "      dtype=object)"
      ]
     },
     "execution_count": 58,
     "metadata": {},
     "output_type": "execute_result"
    }
   ],
   "source": [
    "df_train['comment'].values"
   ]
  }
 ],
 "metadata": {
  "kernelspec": {
   "display_name": "Python 3",
   "language": "python",
   "name": "python3"
  },
  "language_info": {
   "codemirror_mode": {
    "name": "ipython",
    "version": 3
   },
   "file_extension": ".py",
   "mimetype": "text/x-python",
   "name": "python",
   "nbconvert_exporter": "python",
   "pygments_lexer": "ipython3",
   "version": "3.8.5"
  }
 },
 "nbformat": 4,
 "nbformat_minor": 4
}
