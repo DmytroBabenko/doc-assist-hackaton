{
 "cells": [
  {
   "cell_type": "code",
   "execution_count": 3,
   "metadata": {},
   "outputs": [],
   "source": []
  },
  {
   "cell_type": "markdown",
   "metadata": {},
   "source": [
    "### Load inference instances"
   ]
  },
  {
   "cell_type": "code",
   "execution_count": 2,
   "metadata": {},
   "outputs": [],
   "source": [
    "from speciality_detector import SpecialtyDetector "
   ]
  },
  {
   "cell_type": "code",
   "execution_count": 3,
   "metadata": {},
   "outputs": [
    {
     "name": "stderr",
     "output_type": "stream",
     "text": [
      "2021-03-21 13:29:34 INFO: Loading these models for language: ru (Russian):\n",
      "=========================\n",
      "| Processor | Package   |\n",
      "-------------------------\n",
      "| tokenize  | syntagrus |\n",
      "| pos       | syntagrus |\n",
      "| lemma     | syntagrus |\n",
      "| depparse  | syntagrus |\n",
      "| ner       | wikiner   |\n",
      "=========================\n",
      "\n",
      "2021-03-21 13:29:35 INFO: Use device: gpu\n",
      "2021-03-21 13:29:35 INFO: Loading: tokenize\n",
      "2021-03-21 13:29:37 INFO: Loading: pos\n",
      "2021-03-21 13:29:37 INFO: Loading: lemma\n",
      "2021-03-21 13:29:38 INFO: Loading: depparse\n",
      "2021-03-21 13:29:39 INFO: Loading: ner\n",
      "2021-03-21 13:29:40 INFO: Done loading processors!\n"
     ]
    }
   ],
   "source": [
    "speciality_detector = SpecialtyDetector()"
   ]
  },
  {
   "cell_type": "code",
   "execution_count": 4,
   "metadata": {},
   "outputs": [],
   "source": [
    "from disease_detector import DiseaseDetector"
   ]
  },
  {
   "cell_type": "code",
   "execution_count": 5,
   "metadata": {},
   "outputs": [
    {
     "name": "stderr",
     "output_type": "stream",
     "text": [
      "2021-03-21 13:30:37 INFO: Loading these models for language: ru (Russian):\n",
      "=========================\n",
      "| Processor | Package   |\n",
      "-------------------------\n",
      "| tokenize  | syntagrus |\n",
      "| pos       | syntagrus |\n",
      "| lemma     | syntagrus |\n",
      "| depparse  | syntagrus |\n",
      "| ner       | wikiner   |\n",
      "=========================\n",
      "\n",
      "2021-03-21 13:30:37 INFO: Use device: gpu\n",
      "2021-03-21 13:30:37 INFO: Loading: tokenize\n",
      "2021-03-21 13:30:37 INFO: Loading: pos\n",
      "2021-03-21 13:30:38 INFO: Loading: lemma\n",
      "2021-03-21 13:30:38 INFO: Loading: depparse\n",
      "2021-03-21 13:30:39 INFO: Loading: ner\n",
      "2021-03-21 13:30:40 INFO: Done loading processors!\n"
     ]
    }
   ],
   "source": [
    "disease_detector = DiseaseDetector.create_instance()"
   ]
  },
  {
   "cell_type": "markdown",
   "metadata": {},
   "source": [
    "### Enter patient comment"
   ]
  },
  {
   "cell_type": "code",
   "execution_count": 11,
   "metadata": {},
   "outputs": [],
   "source": [
    "user_comment = \"Насморк, и боль горла\""
   ]
  },
  {
   "cell_type": "markdown",
   "metadata": {},
   "source": [
    "### Recomend doctor speciality"
   ]
  },
  {
   "cell_type": "code",
   "execution_count": 12,
   "metadata": {},
   "outputs": [
    {
     "data": {
      "text/plain": [
       "'Оториноларинголог (ЛОР)'"
      ]
     },
     "execution_count": 12,
     "metadata": {},
     "output_type": "execute_result"
    }
   ],
   "source": [
    "speciality_detector.detect(user_comment)"
   ]
  },
  {
   "cell_type": "markdown",
   "metadata": {},
   "source": [
    "### Try to detect potential diseases"
   ]
  },
  {
   "cell_type": "code",
   "execution_count": 14,
   "metadata": {},
   "outputs": [
    {
     "data": {
      "text/plain": [
       "['Розацеа',\n",
       " 'Дерматит',\n",
       " 'Красная волчанка',\n",
       " 'Атопический дерматит',\n",
       " 'Аллергический контактный дерматит']"
      ]
     },
     "execution_count": 14,
     "metadata": {},
     "output_type": "execute_result"
    }
   ],
   "source": [
    "disease_detector.detect_disease(user_comment)"
   ]
  }
 ],
 "metadata": {
  "kernelspec": {
   "display_name": "Python 3",
   "language": "python",
   "name": "python3"
  },
  "language_info": {
   "codemirror_mode": {
    "name": "ipython",
    "version": 3
   },
   "file_extension": ".py",
   "mimetype": "text/x-python",
   "name": "python",
   "nbconvert_exporter": "python",
   "pygments_lexer": "ipython3",
   "version": "3.8.5"
  }
 },
 "nbformat": 4,
 "nbformat_minor": 4
}
